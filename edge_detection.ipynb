{
 "cells": [
  {
   "cell_type": "code",
   "execution_count": 788,
   "metadata": {},
   "outputs": [],
   "source": [
    "import cv2 as cv"
   ]
  },
  {
   "cell_type": "code",
   "execution_count": 789,
   "metadata": {},
   "outputs": [],
   "source": [
    "img = cv.imread('CountBooks_BookShelf.jpg');"
   ]
  },
  {
   "cell_type": "code",
   "execution_count": 790,
   "metadata": {},
   "outputs": [],
   "source": [
    "def rescaleFrame(frame, scale = 0.3):\n",
    "    width = int(frame.shape[1] * scale)\n",
    "    height = int(frame.shape[0] * scale)\n",
    "    dimensions = (width,height)\n",
    "    return cv.resize(frame,dimensions,interpolation=cv.INTER_AREA)"
   ]
  },
  {
   "cell_type": "code",
   "execution_count": 791,
   "metadata": {},
   "outputs": [],
   "source": [
    "def showImg(name,img):\n",
    "    cv.imshow(name,img)"
   ]
  },
  {
   "cell_type": "code",
   "execution_count": 792,
   "metadata": {},
   "outputs": [
    {
     "name": "stdout",
     "output_type": "stream",
     "text": [
      "(1500, 4128, 3)\n"
     ]
    }
   ],
   "source": [
    "img = img[1400:2900]\n",
    "print(img.shape)\n",
    "img = rescaleFrame(img)"
   ]
  },
  {
   "cell_type": "code",
   "execution_count": 793,
   "metadata": {},
   "outputs": [],
   "source": [
    "clahe = cv.createCLAHE(clipLimit=2, tileGridSize=(8,8))\n",
    "lab = cv.cvtColor(img, cv.COLOR_BGR2LAB)  # convert from BGR to LAB color space\n",
    "l, a, b = cv.split(lab)  # split on 3 different channels\n",
    "l2 = clahe.apply(l)  # apply CLAHE to the L-channel\n",
    "lab = cv.merge((l2,a,b))  # merge channels\n",
    "img = cv.cvtColor(lab, cv.COLOR_LAB2BGR)  # convert from LAB to BGR\n",
    "\n",
    "# not used\n",
    "grey_img = cv.cvtColor(img, cv.COLOR_BGR2GRAY)\n",
    "# grey_img = cv.cvtColor(img, cv.COLOR_)\n",
    "# showImg(\"LAB\",grey_img)"
   ]
  },
  {
   "cell_type": "code",
   "execution_count": 794,
   "metadata": {},
   "outputs": [],
   "source": [
    "# not used\n",
    "# gaussian_blur = cv.GaussianBlur(img, (1,1), cv.BORDER_DEFAULT)\n",
    "# showImg(\"Blur\",gaussian_blur)"
   ]
  },
  {
   "cell_type": "code",
   "execution_count": 795,
   "metadata": {},
   "outputs": [],
   "source": [
    "bilateral_blur = cv.bilateralFilter(img,35,75,75)"
   ]
  },
  {
   "cell_type": "code",
   "execution_count": 796,
   "metadata": {},
   "outputs": [],
   "source": [
    "# canny_edge = cv.Canny(gaussian_blur,150,200)\n",
    "# showImg(\"Edges\",canny_edge)"
   ]
  },
  {
   "cell_type": "code",
   "execution_count": 797,
   "metadata": {},
   "outputs": [],
   "source": [
    "canny_edge = cv.Canny(bilateral_blur,50,200)\n",
    "lines = cv.HoughLinesP(canny_edge, 3, 3.142 / 360, 200, None,50, 7)\n",
    "showImg(\"Edges_Canny\",canny_edge)"
   ]
  },
  {
   "cell_type": "code",
   "execution_count": 798,
   "metadata": {},
   "outputs": [],
   "source": [
    "# sobel_edge = cv.Sobel(gaussian_blur,6,0,1)\n",
    "# showImg(\"Edges_Sobel\",sobel_edge)"
   ]
  },
  {
   "cell_type": "code",
   "execution_count": 799,
   "metadata": {},
   "outputs": [],
   "source": [
    "count = 0\n",
    "if lines is not None:\n",
    "        for i in range(0, len(lines)):\n",
    "            l = lines[i][0]\n",
    "\n",
    "            f=0\n",
    "            for j in range(0, len(lines)):\n",
    "                if  i != j:      \n",
    "                    l_next = lines[j][0]\n",
    "                    if(abs(l_next[0] - l[0]) < 7):\n",
    "                        f=1\n",
    "                        break\n",
    "            \n",
    "            if f==1:\n",
    "                continue\n",
    "            if(abs(l[1]-l[3])<20):\n",
    "                continue\n",
    "        \n",
    "            count += 1;\n",
    "            cv.line(img, (l[0], l[1]), (l[2], l[3]), (0,255,0), 3, cv.LINE_AA)\n",
    " \n",
    "cv.imshow(\"Detecting Edges of the book\", img)\n",
    "# showImg(\"bilateral\",bilateral)\n"
   ]
  },
  {
   "cell_type": "code",
   "execution_count": 800,
   "metadata": {},
   "outputs": [
    {
     "name": "stdout",
     "output_type": "stream",
     "text": [
      "16\n"
     ]
    }
   ],
   "source": [
    "cv.waitKey(0)\n",
    "cv.imwrite(\"Edges_of_book.jpg\",img)\n",
    "cv.destroyAllWindows()\n",
    "\n",
    "print(count)"
   ]
  }
 ],
 "metadata": {
  "interpreter": {
   "hash": "916dbcbb3f70747c44a77c7bcd40155683ae19c65e1c03b4aa3499c5328201f1"
  },
  "kernelspec": {
   "display_name": "Python 3.8.10 64-bit",
   "language": "python",
   "name": "python3"
  },
  "language_info": {
   "codemirror_mode": {
    "name": "ipython",
    "version": 3
   },
   "file_extension": ".py",
   "mimetype": "text/x-python",
   "name": "python",
   "nbconvert_exporter": "python",
   "pygments_lexer": "ipython3",
   "version": "3.8.10"
  },
  "orig_nbformat": 4
 },
 "nbformat": 4,
 "nbformat_minor": 2
}
